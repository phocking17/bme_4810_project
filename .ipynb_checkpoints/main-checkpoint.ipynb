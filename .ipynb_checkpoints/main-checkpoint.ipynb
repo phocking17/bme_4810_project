{
 "cells": [
  {
   "cell_type": "code",
   "execution_count": 158,
   "metadata": {},
   "outputs": [],
   "source": [
    "### Import Libraries\n",
    "import numpy as np\n",
    "import os\n",
    "import matplotlib\n",
    "import matplotlib.pyplot as plt\n",
    "import pandas as pd\n",
    "import seaborn as sns\n",
    "import h5py\n",
    "\n",
    "### Learning Models\n",
    "from sklearn.neighbors import KNeighborsClassifier\n",
    "from sklearn.preprocessing import StandardScaler\n",
    "from sklearn.cluster import KMeans\n",
    "from sklearn.model_selection import StratifiedKFold as skf\n",
    "from sklearn.model_selection import train_test_split\n",
    "from sklearn.svm import SVC\n",
    "from sklearn.metrics import accuracy_score\n",
    "from sklearn.metrics import precision_score\n",
    "from sklearn.metrics import recall_score\n",
    "from sklearn.metrics import roc_curve\n",
    "from sklearn.decomposition import PCA\n",
    "from sklearn.pipeline import Pipeline\n",
    "from sklearn.metrics import silhouette_score\n",
    "from sklearn.linear_model import LogisticRegression\n",
    "from sklearn.model_selection import GridSearchCV\n",
    "from sklearn.multiclass import OneVsRestClassifier\n",
    "from sklearn.metrics import confusion_matrix\n",
    "from sklearn.ensemble import RandomForestClassifier\n",
    "from sklearn.ensemble import VotingClassifier\n",
    "\n",
    "\n"
   ]
  },
  {
   "cell_type": "code",
   "execution_count": 134,
   "metadata": {},
   "outputs": [],
   "source": [
    "### Import Data\n",
    "fid = h5py.File(\"Project_Packet/dataset_patchcamelyon.h5\", \"r\")\n",
    "X, Y = fid[\"X\"][:], fid[\"Y\"][:]\n",
    "X = X / 255.\n",
    "fid.close()\n",
    "\n",
    "Y_new = np.array([])\n",
    "for boolean in Y:\n",
    "    Y_new=np.append(Y_new , boolean[0][0])\n",
    "\n",
    "\n",
    "############################\n",
    "\n",
    "#X Structure\n",
    "#Type(X)\n",
    "#List -> All images, sublists are images\n",
    "#2500 Elements\n",
    "\n",
    "#Type(X[0])\n",
    "#List -> Single Image, sublists are pixel rows\n",
    "#96 Elements\n",
    "\n",
    "#Type(X[0][0])\n",
    "#List -> Single pixel row, sublists are RBG color codes\n",
    "#96 Elements\n",
    "\n",
    "#Type(X[0][0][0])\n",
    "#List -> RBG color code\n",
    "#3 Elements\n",
    "\n",
    "#Type(Y)\n",
    "#List -> Sublisted elements (Boolean)\n",
    "#    1 -> Metastases present in image\n",
    "#    0 -> Metastases not present in image\n",
    "#Y_New\n",
    "\n",
    "\n",
    "############################"
   ]
  },
  {
   "cell_type": "code",
   "execution_count": 136,
   "metadata": {},
   "outputs": [
    {
     "name": "stdout",
     "output_type": "stream",
     "text": [
      "4.0%\n",
      "8.0%\n",
      "12.0%\n",
      "16.0%\n",
      "20.0%\n",
      "24.0%\n",
      "28.000000000000004%\n",
      "32.0%\n",
      "36.0%\n",
      "40.0%\n",
      "44.0%\n",
      "48.0%\n",
      "52.0%\n",
      "56.00000000000001%\n",
      "60.0%\n",
      "64.0%\n",
      "68.0%\n",
      "72.0%\n",
      "76.0%\n",
      "80.0%\n",
      "84.0%\n",
      "88.0%\n",
      "92.0%\n",
      "96.0%\n",
      "100.0%\n",
      "2500\n"
     ]
    }
   ],
   "source": [
    "### Convert X to features\n",
    "X_new = np.array([])\n",
    "counter=0\n",
    "for image in X:\n",
    "    counter+=1\n",
    "    if counter%100 == 0:\n",
    "        print(str((counter/2500)*100)+'%')\n",
    "    feature_set = []\n",
    "    for row in image:\n",
    "        for col in row:\n",
    "            for rbg in col:\n",
    "                feature_set.append(rbg)\n",
    "    if X_new.size == 0:\n",
    "        X_new = np.array(feature_set)\n",
    "    else:\n",
    "        X_new = np.vstack((X_new, feature_set))\n",
    "print(len(X_new))"
   ]
  },
  {
   "cell_type": "code",
   "execution_count": 138,
   "metadata": {},
   "outputs": [],
   "source": [
    "### Scale Data\n",
    "scaler = StandardScaler()\n",
    "X_new = scaler.fit_transform(X_new)"
   ]
  },
  {
   "cell_type": "code",
   "execution_count": 139,
   "metadata": {},
   "outputs": [],
   "source": [
    "#new_frame = np.array([np.append(x,y) for x,y in zip(X_new, Y_new)])\n",
    "### y = new_frame[n][-1] ((Last Feature))\n",
    "X_train, X_test, y_train, y_test = train_test_split(X_new, Y_new, test_size=0.2, stratify=Y_new)\n",
    "\n"
   ]
  },
  {
   "cell_type": "code",
   "execution_count": 141,
   "metadata": {},
   "outputs": [
    {
     "name": "stdout",
     "output_type": "stream",
     "text": [
      "1221 components of the total 2000 components account for 95% of variance\n"
     ]
    }
   ],
   "source": [
    "### Principal Component Analysis\n",
    "pcaval=PCA()\n",
    "pcaval.fit(X_train)\n",
    "CUMSUM = np.cumsum(pcaval.explained_variance_ratio_)\n",
    "# print out how many components explain at least 95% of the variance\n",
    "dmax = np.argmax(CUMSUM >= 0.95) + 1\n",
    "print(dmax,\"components of the total\", pcaval.explained_variance_ratio_.size, \"components account for 95% of variance\")\n",
    "pcaval = PCA(n_components = dmax)\n",
    "X_train_pca = pcaval.fit_transform(X_train)\n",
    "X_test_pca = pcaval.transform(X_test)"
   ]
  },
  {
   "cell_type": "code",
   "execution_count": 144,
   "metadata": {},
   "outputs": [],
   "source": [
    "random_forest_model = GridSearchCV(RandomForestClassifier(criterion='gini'), {'min_samples_leaf':[1,10,100],'max_depth':[1,2, 5, 9]})\n",
    "#SVM Soft, ovo \n",
    "model = random_forest_model.fit(X_train_pca, y_train)\n",
    "prediction = model.predict(X_test_pca)\n"
   ]
  },
  {
   "cell_type": "code",
   "execution_count": 148,
   "metadata": {},
   "outputs": [],
   "source": [
    "model_full = random_forest_model.fit(X_train, y_train)\n",
    "prediction_full = model_full.predict(X_test)"
   ]
  },
  {
   "cell_type": "code",
   "execution_count": 155,
   "metadata": {},
   "outputs": [],
   "source": [
    "from sklearn.tree import DecisionTreeClassifier\n",
    "from sklearn.ensemble import AdaBoostClassifier\n",
    "\n",
    "decision_tree_boost_model = DecisionTreeClassifier(criterion='gini', max_depth=3, random_state=36)\n",
    "model_dt_pca = decision_tree_boost_model.fit(X_train_pca, y_train)\n",
    "prediction_dt_pca = model_dt_pca.predict(X_test_pca)"
   ]
  },
  {
   "cell_type": "code",
   "execution_count": 160,
   "metadata": {},
   "outputs": [],
   "source": [
    "ensemble_1_model = VotingClassifier(estimators=[('dt', decision_tree_boost_model), ('rf', random_forest_model)], voting='soft')\n",
    "model_ensemble = ensemble_1_model.fit(X_train_pca, y_train)\n",
    "prediction_ensemble_pca = model_ensemble.predict(X_test_pca)"
   ]
  },
  {
   "cell_type": "code",
   "execution_count": 164,
   "metadata": {},
   "outputs": [],
   "source": [
    "model_ensemble_full = ensemble_1_model.fit(X_train, y_train)\n",
    "prediction_ensemble_full = model_ensemble_full.predict(X_test)"
   ]
  },
  {
   "cell_type": "code",
   "execution_count": 165,
   "metadata": {},
   "outputs": [
    {
     "name": "stdout",
     "output_type": "stream",
     "text": [
      "PCA + RFC\n"
     ]
    },
    {
     "data": {
      "image/png": "[encoded data removed]",
      "text/plain": [
       "<Figure size 432x288 with 2 Axes>"
      ]
     },
     "metadata": {
      "needs_background": "light"
     },
     "output_type": "display_data"
    },
    {
     "name": "stdout",
     "output_type": "stream",
     "text": [
      "(0.672, 0.6894810659186535, 0.6625595610530876)\n",
      " \n",
      "\n",
      "\n",
      "PCA + DT\n"
     ]
    },
    {
     "data": {
      "image/png": "[encoded data removed]",
      "text/plain": [
       "<Figure size 432x288 with 2 Axes>"
      ]
     },
     "metadata": {
      "needs_background": "light"
     },
     "output_type": "display_data"
    },
    {
     "name": "stdout",
     "output_type": "stream",
     "text": [
      "(0.76, 0.7771428571428571, 0.752883797789222)\n",
      " \n",
      "\n",
      "\n",
      "PCA + Ensemble\n"
     ]
    },
    {
     "data": {
      "image/png": "[encoded data removed]",
      "text/plain": [
       "<Figure size 432x288 with 2 Axes>"
      ]
     },
     "metadata": {
      "needs_background": "light"
     },
     "output_type": "display_data"
    },
    {
     "name": "stdout",
     "output_type": "stream",
     "text": [
      "(0.746, 0.7804761904761905, 0.7362387896873145)\n",
      " \n",
      "\n",
      "\n",
      "Full + RFC\n"
     ]
    },
    {
     "data": {
      "image/png": "[encoded data removed]",
      "text/plain": [
       "<Figure size 432x288 with 2 Axes>"
      ]
     },
     "metadata": {
      "needs_background": "light"
     },
     "output_type": "display_data"
    },
    {
     "name": "stdout",
     "output_type": "stream",
     "text": [
      "(0.802, 0.8225659371492705, 0.7951019556881809)\n",
      " \n",
      "\n",
      "\n",
      "Full + Ensemble\n"
     ]
    },
    {
     "data": {
      "image/png": "[encoded data removed]",
      "text/plain": [
       "<Figure size 432x288 with 2 Axes>"
      ]
     },
     "metadata": {
      "needs_background": "light"
     },
     "output_type": "display_data"
    },
    {
     "name": "stdout",
     "output_type": "stream",
     "text": [
      "(0.726, 0.7373263888888889, 0.7193130224126036)\n",
      " \n",
      "\n",
      "\n"
     ]
    }
   ],
   "source": [
    "### Analysis Scripts\n",
    "def analyze(y_true, y_pred, y_proba):\n",
    "    accuracy= accuracy_score(y_true, y_pred)\n",
    "    precision = precision_score(y_true, y_pred, average='macro')\n",
    "    recall = recall_score(y_true, y_pred, average='macro')\n",
    "    uniques = len(np.unique(y_true))\n",
    "    \n",
    "    fpr = dict()\n",
    "    tpr = dict()\n",
    "    roc_auc = dict()\n",
    "    \n",
    "    confusion_array=confusion_matrix(y_true, y_pred)\n",
    "    confusion_array=confusion_array.astype('float')\n",
    "    sns.heatmap(confusion_array, annot=True)\n",
    "    plt.show()\n",
    "    \n",
    "    return accuracy, precision, recall\n",
    "\n",
    "\n",
    "print('PCA + RFC')\n",
    "initial_results = analyze(y_test, prediction, 0)\n",
    "print(initial_results)\n",
    "print(' ')\n",
    "print('')\n",
    "print('')\n",
    "\n",
    "print('PCA + DT')\n",
    "initial_results_pca_dt = analyze(y_test, prediction_dt_pca, 0)\n",
    "print(initial_results_pca_dt)\n",
    "print(' ')\n",
    "print('')\n",
    "print('')\n",
    "\n",
    "print('PCA + Ensemble')\n",
    "initial_results_ensemble_pca = analyze(y_test, prediction_ensemble_pca, 0)\n",
    "print(initial_results_ensemble_pca)\n",
    "print(' ')\n",
    "print('')\n",
    "print('')\n",
    "\n",
    "print('Full + RFC')\n",
    "initial_results_full = analyze(y_test, prediction_full, 0)\n",
    "print(initial_results_full)\n",
    "print(' ')\n",
    "print('')\n",
    "print('')\n",
    "\n",
    "print('Full + Ensemble')\n",
    "initial_results_ensemble_full = analyze(y_test, prediction_ensemble_full, 0)\n",
    "print(initial_results_ensemble_full)\n",
    "print(' ')\n",
    "print('')\n",
    "print('')\n"
   ]
  }
 ],
 "metadata": {
  "kernelspec": {
   "display_name": "Python 3",
   "language": "python",
   "name": "python3"
  },
  "language_info": {
   "codemirror_mode": {
    "name": "ipython",
    "version": 3
   },
   "file_extension": ".py",
   "mimetype": "text/x-python",
   "name": "python",
   "nbconvert_exporter": "python",
   "pygments_lexer": "ipython3",
   "version": "3.8.5"
  }
 },
 "nbformat": 4,
 "nbformat_minor": 4
}
