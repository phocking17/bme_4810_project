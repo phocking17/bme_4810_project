{
 "cells": [
  {
   "cell_type": "code",
   "execution_count": 1,
   "id": "daeafa3a",
   "metadata": {},
   "outputs": [
    {
     "name": "stdout",
     "output_type": "stream",
     "text": [
      "(2000, 96, 96, 3) (500, 96, 96, 3) (2000, 1, 1, 1) (500, 1, 1, 1)\n"
     ]
    }
   ],
   "source": [
    "import pandas as pd\n",
    "import numpy as np\n",
    "import tensorflow as tf\n",
    "from tensorflow import keras\n",
    "from sklearn.model_selection import RandomizedSearchCV, GridSearchCV, train_test_split\n",
    "import h5py\n",
    "import seaborn as sns\n",
    "\n",
    "test_size = 0.20\n",
    "N = int(2500 * test_size)\n",
    "fid = h5py.File(r\"/Users/nathanbrockbank/Downloads/Project_Packet/dataset_patchcamelyon.h5\", 'r') \n",
    "X_test, Y_test = fid['X'][:N], fid['Y'][:N]\n",
    "X, Y = fid['X'][N:], fid['Y'][N:]\n",
    "X = X / 255.\n",
    "X_test = X_test / 255.\n",
    "fid.close()\n",
    "\n",
    "print(X.shape, X_test.shape, Y.shape, Y_test.shape)\n",
    "\n"
   ]
  },
  {
   "cell_type": "code",
   "execution_count": 2,
   "id": "aa62cca4",
   "metadata": {},
   "outputs": [
    {
     "name": "stdout",
     "output_type": "stream",
     "text": [
      "(2000, 96, 96, 1) (500, 96, 96, 1)\n"
     ]
    }
   ],
   "source": [
    "X_gs = tf.image.rgb_to_grayscale(X)\n",
    "X_gs_test = tf.image.rgb_to_grayscale(X_test)\n",
    "\n",
    "print(X_gs.shape, X_gs_test.shape)"
   ]
  },
  {
   "cell_type": "code",
   "execution_count": 3,
   "id": "4923ff1f",
   "metadata": {},
   "outputs": [
    {
     "name": "stdout",
     "output_type": "stream",
     "text": [
      "(2000, 1) (2000, 96, 96, 3)\n"
     ]
    }
   ],
   "source": [
    "Y = np.asarray([[y] for y in Y.reshape(len(Y))])\n",
    "Y_test = np.asarray([[y] for y in Y_test.reshape(len(Y_test))])\n",
    "\n",
    "print(Y.shape, X.shape)\n"
   ]
  },
  {
   "cell_type": "code",
   "execution_count": 39,
   "id": "cbc7c3a2",
   "metadata": {},
   "outputs": [],
   "source": [
    "def create_cnn(color=True, dense_units=[32, 16], conv1x1=False, bn=True, dr=0.3, \n",
    "               pool_fcn='max', opt_fcn='SGD', lr = 0.01, act_fcn='selu', \n",
    "               filters_t=[16, 32, 64], kernels=[6, 3], stride=2, pad_mthd='same'):\n",
    "    \n",
    "    # determine input (RBG/GS)\n",
    "    if color:\n",
    "        input_shape = [96, 96, 3]\n",
    "    else:\n",
    "        input_shape = [96, 96, 1]\n",
    "    \n",
    "    # ensure there are filter and kernel sizes set for each convolutional layer\n",
    "    filters = [f for f in filters_t]\n",
    "    kernel_size = [k for k in kernels]\n",
    "    if type(dense_units) == int:\n",
    "        d_units = [dense_units]\n",
    "    else:\n",
    "        d_units = [d for d in dense_units]\n",
    "    \n",
    "    c_depth = max(len(filters), len(kernel_size))\n",
    "    if len(filters)>len(kernel_size):\n",
    "        while len(filters)>len(kernel_size):\n",
    "            kernel_size.append(kernel_size[len(kernel_size)-1])\n",
    "    elif len(filters)<len(kernel_size):\n",
    "        while len(filters)<len(kernel_size):\n",
    "            filters.append(filters[len(filters)-1])\n",
    "    \n",
    "    # create cnn\n",
    "    cnn_clf = keras.models.Sequential()\n",
    "    \n",
    "    # add convolutional layers\n",
    "    if pool_fcn == \"max\":\n",
    "        for i in range(c_depth):\n",
    "            cnn_clf.add(keras.layers.Conv2D(filters=filters[i], kernel_size=kernel_size[i], activation=act_fcn, padding=pad_mthd, input_shape=input_shape))\n",
    "            cnn_clf.add(keras.layers.MaxPooling2D(2))\n",
    "    elif pool_fcn == \"average\":\n",
    "        for i in range(c_depth):\n",
    "            cnn_clf.add(keras.layers.Conv2D(filters=filters[i], kernel_size=kernel_size[i], activation=act_fcn, padding=pad_mthd, input_shape=input_shape))\n",
    "            cnn_clf.add(keras.layers.AveragePooling2D(2))\n",
    "    \n",
    "    # 1x1 convolutional layer\n",
    "    if conv1x1:\n",
    "        cnn_clf.add(keras.layers.Conv2D(filters=filters[len(filters)-1], kernel_size=1))\n",
    "    else:\n",
    "        pass\n",
    "    \n",
    "    cnn_clf.add(keras.layers.Flatten())\n",
    "    \n",
    "    # add dense layers\n",
    "    if bn:\n",
    "        for i in d_units:\n",
    "            cnn_clf.add(keras.layers.BatchNormalization())\n",
    "            cnn_clf.add(keras.layers.Dense(i, activation=act_fcn, kernel_initializer='lecun_normal'))\n",
    "            cnn_clf.add(keras.layers.Dropout(dr))\n",
    "    else:\n",
    "        for i in d_units:\n",
    "            cnn_clf.add(keras.layers.Dense(i, activation=act_fcn, kernel_initializer='lecun_normal'))\n",
    "            cnn_clf.add(keras.layers.Dropout(dr))\n",
    "\n",
    "    # define optimizer fcn\n",
    "    if opt_fcn == 'Adam':\n",
    "        opt = keras.optimizers.Adam(lr=lr)\n",
    "    elif opt_fcn == 'SGD':\n",
    "        opt = keras.optimizers.SGD(lr=lr, nesterov=True)\n",
    "    elif opt_fcn == 'RMSprop':\n",
    "        opt = keras.optimizers.RMSprop(lr=lr)\n",
    "    \n",
    "    # add output layer and compile\n",
    "    cnn_clf.add(keras.layers.Dense(1, activation='sigmoid'))\n",
    "    cnn_clf.compile(loss='binary_crossentropy', optimizer=opt, metrics=['accuracy'])\n",
    "    \n",
    "    return cnn_clf\n",
    "\n",
    "cnn_wrap = keras.wrappers.scikit_learn.KerasClassifier(create_cnn)\n",
    "\n",
    "cp_cb_cnn = keras.callbacks.ModelCheckpoint(\"model_trained_cnn.h5\")\n",
    "es_cb_cnn = keras.callbacks.EarlyStopping(monitor=\"accuracy\", patience=5, restore_best_weights=True)\n"
   ]
  },
  {
   "cell_type": "code",
   "execution_count": 42,
   "id": "7a18ef3b",
   "metadata": {
    "scrolled": true
   },
   "outputs": [
    {
     "name": "stdout",
     "output_type": "stream",
     "text": [
      "Fitting 2 folds for each of 24 candidates, totalling 48 fits\n",
      "Epoch 1/3\n",
      "63/63 - 9s - loss: 0.6503 - accuracy: 0.6550\n",
      "Epoch 2/3\n",
      "63/63 - 7s - loss: 0.5370 - accuracy: 0.7180\n",
      "Epoch 3/3\n",
      "63/63 - 7s - loss: 0.5312 - accuracy: 0.7375\n",
      "{'act_fcn': 'selu', 'opt_fcn': 'SGD', 'pad_mthd': 'same', 'pool_fcn': 'average'}\n"
     ]
    }
   ],
   "source": [
    "# function choice\n",
    "\n",
    "param_grid1 = {\n",
    "    'pool_fcn': ['max', 'average'],\n",
    "    'opt_fcn': ['Adam', 'SGD', 'RMSprop'],\n",
    "    'act_fcn': ['relu', 'selu'],\n",
    "    'pad_mthd': ['valid', 'same']\n",
    "}\n",
    "\n",
    "search1 = GridSearchCV(cnn_wrap, param_grid1, cv=2, verbose=2, n_jobs=-1)\n",
    "search1.fit(X, Y, epochs=3, verbose=2) #, callbacks=[es_cb_cnn, cp_cb_cnn])\n",
    "print(search1.best_params_)\n",
    "df1 = pd.DataFrame(search1.cv_results_)\n",
    "df1.to_csv(\"/Users/nathanbrockbank/Library/Mobile Documents/com~apple~Numbers/Documents/CNN_grid1.csv\")\n"
   ]
  },
  {
   "cell_type": "code",
   "execution_count": 43,
   "id": "6a583c78",
   "metadata": {},
   "outputs": [
    {
     "name": "stdout",
     "output_type": "stream",
     "text": [
      "Fitting 2 folds for each of 144 candidates, totalling 288 fits\n",
      "Epoch 1/3\n",
      "63/63 - 6s - loss: 0.8626 - accuracy: 0.6580\n",
      "Epoch 2/3\n",
      "63/63 - 6s - loss: 0.4634 - accuracy: 0.7800\n",
      "Epoch 3/3\n",
      "63/63 - 6s - loss: 0.3794 - accuracy: 0.8240\n",
      "{'dense_units': 32, 'filters_t': (16, 32, 64), 'kernels': (3, 3), 'stride': 2}\n"
     ]
    }
   ],
   "source": [
    "# structure choice\n",
    "\n",
    "param_grid2 = {\n",
    "    'dense_units': [(32, 16), (64, 16), 32, 16],\n",
    "    'filters_t': [(16, 24, 32), (16, 32, 64), (16, 32), (16, 24)],\n",
    "    'kernels': [(6,3),(4,3), (3,3)],\n",
    "    'stride': [1, 2, 3]\n",
    "}\n",
    "\n",
    "search2 = GridSearchCV(cnn_wrap, param_grid2, cv=2, verbose=2, n_jobs=-1)\n",
    "search2.fit(X, Y, epochs=3, verbose=2) #, callbacks=[es_cb_cnn, cp_cb_cnn])\n",
    "print(search2.best_params_)\n",
    "df2 = pd.DataFrame(search2.cv_results_)\n",
    "df2.to_csv(\"/Users/nathanbrockbank/Library/Mobile Documents/com~apple~Numbers/Documents/CNN_grid2.csv\")\n"
   ]
  },
  {
   "cell_type": "code",
   "execution_count": 44,
   "id": "df549ff7",
   "metadata": {},
   "outputs": [
    {
     "name": "stdout",
     "output_type": "stream",
     "text": [
      "Fitting 2 folds for each of 48 candidates, totalling 96 fits\n",
      "Epoch 1/3\n",
      "63/63 - 8s - loss: 0.6770 - accuracy: 0.5725\n",
      "Epoch 2/3\n",
      "63/63 - 7s - loss: 0.6317 - accuracy: 0.6295\n",
      "Epoch 3/3\n",
      "63/63 - 7s - loss: 0.5930 - accuracy: 0.6725\n",
      "{'bn': False, 'conv1x1': False, 'dr': 0, 'lr': 0.001}\n"
     ]
    }
   ],
   "source": [
    "# normalization choice\n",
    "\n",
    "param_grid3 = {\n",
    "    'conv1x1': [True, False],\n",
    "    'bn': [True, False],\n",
    "    'dr': [0, 0.15, 0.3, 0.45],\n",
    "    'lr': np.logspace(-4, -2,num=3).tolist()\n",
    "}\n",
    "\n",
    "search3 = GridSearchCV(cnn_wrap, param_grid3, cv=2, verbose=2, n_jobs=-1)\n",
    "search3.fit(X, Y, epochs=3, verbose=2) #, callbacks=[es_cb_cnn, cp_cb_cnn])\n",
    "print(search3.best_params_)\n",
    "df3 = pd.DataFrame(search3.cv_results_)\n",
    "df3.to_csv(\"/Users/nathanbrockbank/Library/Mobile Documents/com~apple~Numbers/Documents/CNN_grid3.csv\")\n",
    "\n"
   ]
  },
  {
   "cell_type": "code",
   "execution_count": 46,
   "id": "baafe4e3",
   "metadata": {},
   "outputs": [
    {
     "name": "stdout",
     "output_type": "stream",
     "text": [
      "Fitting 2 folds for each of 36 candidates, totalling 72 fits\n",
      "Epoch 1/3\n",
      "63/63 - 17s - loss: 0.7605 - accuracy: 0.6705\n",
      "Epoch 2/3\n",
      "63/63 - 16s - loss: 0.5159 - accuracy: 0.7525\n",
      "Epoch 3/3\n",
      "63/63 - 16s - loss: 0.4442 - accuracy: 0.8015\n",
      "{'dense_units': 16, 'dr': 0, 'filters_t': (32, 128, 256), 'lr': 0.001, 'pool_fcn': 'average', 'stride': 3}\n"
     ]
    }
   ],
   "source": [
    "# nn layer optimization\n",
    "\n",
    "param_grid4 = {\n",
    "    'filters_t': [(16, 96, 256), (32, 64, 96), (16, 64, 128), (32, 128, 256)],\n",
    "    'dense_units': [16, 32, 64],\n",
    "    'dr': [0, 0.3, 0.45],\n",
    "    'lr': [0.001],\n",
    "    'stride': [3],\n",
    "    'pool_fcn':['average']\n",
    "}\n",
    "\n",
    "search4 = GridSearchCV(cnn_wrap, param_grid4, cv=2, verbose=2, n_jobs=-1)\n",
    "search4.fit(X, Y, epochs=3, verbose=2) #, callbacks=[es_cb_cnn, cp_cb_cnn])\n",
    "print(search4.best_params_)\n",
    "df4 = pd.DataFrame(search4.cv_results_)\n",
    "df4.to_csv(\"/Users/nathanbrockbank/Library/Mobile Documents/com~apple~Numbers/Documents/CNN_grid4.csv\")\n"
   ]
  },
  {
   "cell_type": "code",
   "execution_count": 47,
   "id": "778c094a",
   "metadata": {},
   "outputs": [
    {
     "name": "stdout",
     "output_type": "stream",
     "text": [
      "Model: \"sequential_19\"\n",
      "_________________________________________________________________\n",
      "Layer (type)                 Output Shape              Param #   \n",
      "=================================================================\n",
      "conv2d_54 (Conv2D)           (None, 96, 96, 16)        1744      \n",
      "_________________________________________________________________\n",
      "average_pooling2d_15 (Averag (None, 48, 48, 16)        0         \n",
      "_________________________________________________________________\n",
      "conv2d_55 (Conv2D)           (None, 48, 48, 96)        13920     \n",
      "_________________________________________________________________\n",
      "average_pooling2d_16 (Averag (None, 24, 24, 96)        0         \n",
      "_________________________________________________________________\n",
      "conv2d_56 (Conv2D)           (None, 24, 24, 256)       221440    \n",
      "_________________________________________________________________\n",
      "average_pooling2d_17 (Averag (None, 12, 12, 256)       0         \n",
      "_________________________________________________________________\n",
      "flatten_19 (Flatten)         (None, 36864)             0         \n",
      "_________________________________________________________________\n",
      "dense_55 (Dense)             (None, 16)                589840    \n",
      "_________________________________________________________________\n",
      "dropout_36 (Dropout)         (None, 16)                0         \n",
      "_________________________________________________________________\n",
      "dense_56 (Dense)             (None, 1)                 17        \n",
      "=================================================================\n",
      "Total params: 826,961\n",
      "Trainable params: 826,961\n",
      "Non-trainable params: 0\n",
      "_________________________________________________________________\n",
      "Epoch 1/10\n",
      "63/63 - 13s - loss: 0.6979 - accuracy: 0.5505 - val_loss: 0.6643 - val_accuracy: 0.6220\n",
      "Epoch 2/10\n",
      "63/63 - 12s - loss: 0.6648 - accuracy: 0.6000 - val_loss: 0.6808 - val_accuracy: 0.5120\n",
      "Epoch 3/10\n",
      "63/63 - 12s - loss: 0.6464 - accuracy: 0.6125 - val_loss: 0.6476 - val_accuracy: 0.6320\n",
      "Epoch 4/10\n",
      "63/63 - 12s - loss: 0.6462 - accuracy: 0.6215 - val_loss: 0.6466 - val_accuracy: 0.6200\n",
      "Epoch 5/10\n",
      "63/63 - 13s - loss: 0.6258 - accuracy: 0.6430 - val_loss: 0.6364 - val_accuracy: 0.6260\n",
      "Epoch 6/10\n",
      "63/63 - 12s - loss: 0.6032 - accuracy: 0.6720 - val_loss: 0.6232 - val_accuracy: 0.6420\n",
      "Epoch 7/10\n",
      "63/63 - 13s - loss: 0.6115 - accuracy: 0.6585 - val_loss: 0.6517 - val_accuracy: 0.6200\n",
      "Epoch 8/10\n",
      "63/63 - 13s - loss: 0.6062 - accuracy: 0.6705 - val_loss: 0.6157 - val_accuracy: 0.6220\n",
      "Epoch 9/10\n",
      "63/63 - 12s - loss: 0.6033 - accuracy: 0.6700 - val_loss: 0.6263 - val_accuracy: 0.6320\n",
      "Epoch 10/10\n",
      "63/63 - 13s - loss: 0.6022 - accuracy: 0.6570 - val_loss: 0.6118 - val_accuracy: 0.6180\n"
     ]
    }
   ],
   "source": [
    "# define optimal cnn\n",
    "# color \n",
    "cnn_opt = create_cnn(color=True, dense_units=16, bn=False, dr=0.3, \n",
    "               pool_fcn='average', opt_fcn='SGD', lr = 0.001, act_fcn='selu', \n",
    "               filters_t=[16, 96, 256], kernels=[6, 3], stride=3, pad_mthd='same')\n",
    "cnn_opt.summary()\n",
    "train_cnn_opt = cnn_opt.fit(X, Y, epochs=10, validation_data=(X_test, Y_test), verbose=2, callbacks=[es_cb_cnn, cp_cb_cnn])\n",
    "\n"
   ]
  },
  {
   "cell_type": "code",
   "execution_count": 48,
   "id": "23ff0986",
   "metadata": {},
   "outputs": [
    {
     "name": "stdout",
     "output_type": "stream",
     "text": [
      "16/16 [==============================] - 1s 47ms/step - loss: 0.6118 - accuracy: 0.6180\n"
     ]
    }
   ],
   "source": [
    "score_cnn_opt = cnn_opt.evaluate(X_test, Y_test)\n",
    "probs_cnn_opt = cnn_opt.predict(X_test)"
   ]
  },
  {
   "cell_type": "code",
   "execution_count": 49,
   "id": "b7c0afb7",
   "metadata": {
    "scrolled": false
   },
   "outputs": [
    {
     "name": "stdout",
     "output_type": "stream",
     "text": [
      "fn 53\n",
      "Accuracy: 61.8\n",
      "Precision: 59.29203539823009\n",
      "Recall: 79.13385826771653\n",
      "AUC:  61.51814864605338\n",
      "FNR: 0.32919254658385094\n",
      "TPR: 0.7913385826771654\n"
     ]
    },
    {
     "data": {
      "image/png": "[encoded data removed]",
      "text/plain": [
       "<Figure size 432x288 with 2 Axes>"
      ]
     },
     "metadata": {
      "needs_background": "light"
     },
     "output_type": "display_data"
    }
   ],
   "source": [
    "from sklearn.metrics import accuracy_score, precision_score, recall_score, confusion_matrix, roc_auc_score\n",
    "import matplotlib as plt\n",
    "\n",
    "### Analysis Scripts\n",
    "def analyze(y_true, y_pred):\n",
    "    accuracy= accuracy_score(y_true, y_pred)\n",
    "    precision = precision_score(y_true, y_pred)\n",
    "    recall = recall_score(y_true, y_pred)\n",
    "    auc = roc_auc_score(y_true, y_pred)\n",
    "    uniques = len(np.unique(y_true))\n",
    "    \n",
    "    fpr = dict()\n",
    "    tpr = dict()\n",
    "    roc_auc = dict()\n",
    "    \n",
    "    tn, fp, fn, tp=confusion_matrix(y_true, y_pred).ravel()\n",
    "    print('fn', fn)\n",
    "    confusion_array=confusion_matrix(y_true, y_pred)\n",
    "    confusion_array=confusion_array.astype('float')\n",
    "    sns.heatmap(confusion_array, annot=True)\n",
    "    #plt.xlabel('Predicted Class')\n",
    "    #plt.ylabel('True Class')\n",
    "\n",
    "    fnr = fn/(fn+tn)\n",
    "    tpr = tp/(tp+fn)\n",
    "    \n",
    "    return [accuracy, precision, recall, auc, fnr, tpr]\n",
    "\n",
    "results = analyze(Y_test, probs_cnn_opt.round())\n",
    "\n",
    "print('Accuracy:', results[0]*100)\n",
    "print('Precision:', results[1]*100)\n",
    "print('Recall:', results[2]*100)\n",
    "print('AUC: ', results[3]*100)\n",
    "print('FNR:', results[4])\n",
    "print('TPR:', results[5])"
   ]
  },
  {
   "cell_type": "code",
   "execution_count": 59,
   "id": "3e4606fd",
   "metadata": {},
   "outputs": [
    {
     "name": "stdout",
     "output_type": "stream",
     "text": [
      "Test Data: \n",
      " Cancer: 254 \n",
      " Normal: 246 \n",
      " Ratio: 0.508\n",
      "Train Data: \n",
      " Cancer: 1062 \n",
      " Normal: 938 \n",
      " Ratio: 0.531\n"
     ]
    }
   ],
   "source": [
    "\n",
    "m = 0 # cancer\n",
    "n = 0 # normal\n",
    "for y in Y_test:\n",
    "    if y == [1]:\n",
    "        m += 1\n",
    "    elif y == [0]:\n",
    "        n += 1\n",
    "\n",
    "print('Test Data:', '\\n', 'Cancer:', m, '\\n', 'Normal:', n, '\\n', 'Ratio:', m/(m+n))\n",
    "\n",
    "p = 0 # cancer\n",
    "q = 0 # normal\n",
    "for y in Y:\n",
    "    if y == [1]:\n",
    "        p += 1\n",
    "    elif y == [0]:\n",
    "        q += 1\n",
    "\n",
    "print('Train Data:', '\\n', 'Cancer:', p, '\\n', 'Normal:', q, '\\n', 'Ratio:', p/(p+q))"
   ]
  },
  {
   "cell_type": "code",
   "execution_count": 60,
   "id": "82be0acb",
   "metadata": {},
   "outputs": [
    {
     "name": "stdout",
     "output_type": "stream",
     "text": [
      "Model: \"sequential_20\"\n",
      "_________________________________________________________________\n",
      "Layer (type)                 Output Shape              Param #   \n",
      "=================================================================\n",
      "conv2d_57 (Conv2D)           (None, 96, 96, 16)        592       \n",
      "_________________________________________________________________\n",
      "average_pooling2d_18 (Averag (None, 48, 48, 16)        0         \n",
      "_________________________________________________________________\n",
      "conv2d_58 (Conv2D)           (None, 48, 48, 96)        13920     \n",
      "_________________________________________________________________\n",
      "average_pooling2d_19 (Averag (None, 24, 24, 96)        0         \n",
      "_________________________________________________________________\n",
      "conv2d_59 (Conv2D)           (None, 24, 24, 256)       221440    \n",
      "_________________________________________________________________\n",
      "average_pooling2d_20 (Averag (None, 12, 12, 256)       0         \n",
      "_________________________________________________________________\n",
      "flatten_20 (Flatten)         (None, 36864)             0         \n",
      "_________________________________________________________________\n",
      "dense_57 (Dense)             (None, 16)                589840    \n",
      "_________________________________________________________________\n",
      "dropout_37 (Dropout)         (None, 16)                0         \n",
      "_________________________________________________________________\n",
      "dense_58 (Dense)             (None, 1)                 17        \n",
      "=================================================================\n",
      "Total params: 825,809\n",
      "Trainable params: 825,809\n",
      "Non-trainable params: 0\n",
      "_________________________________________________________________\n",
      "Epoch 1/10\n",
      "63/63 - 13s - loss: 0.7372 - accuracy: 0.5040 - val_loss: 0.7243 - val_accuracy: 0.5080\n",
      "Epoch 2/10\n",
      "63/63 - 12s - loss: 0.7031 - accuracy: 0.5325 - val_loss: 0.6825 - val_accuracy: 0.5880\n",
      "Epoch 3/10\n",
      "63/63 - 12s - loss: 0.6879 - accuracy: 0.5480 - val_loss: 0.6772 - val_accuracy: 0.4440\n",
      "Epoch 4/10\n",
      "63/63 - 13s - loss: 0.6781 - accuracy: 0.5780 - val_loss: 0.8725 - val_accuracy: 0.4920\n",
      "Epoch 5/10\n",
      "63/63 - 13s - loss: 0.6719 - accuracy: 0.5805 - val_loss: 0.8871 - val_accuracy: 0.5080\n",
      "Epoch 6/10\n",
      "63/63 - 13s - loss: 0.6698 - accuracy: 0.5955 - val_loss: 0.6900 - val_accuracy: 0.4440\n",
      "Epoch 7/10\n",
      "63/63 - 12s - loss: 0.6744 - accuracy: 0.5825 - val_loss: 0.6844 - val_accuracy: 0.6040\n",
      "Epoch 8/10\n",
      "63/63 - 12s - loss: 0.6520 - accuracy: 0.6185 - val_loss: 0.6882 - val_accuracy: 0.4560\n",
      "Epoch 9/10\n",
      "63/63 - 12s - loss: 0.6634 - accuracy: 0.6005 - val_loss: 0.7533 - val_accuracy: 0.5100\n",
      "Epoch 10/10\n",
      "63/63 - 12s - loss: 0.6501 - accuracy: 0.6290 - val_loss: 0.6527 - val_accuracy: 0.6280\n"
     ]
    }
   ],
   "source": [
    "cnn_gs = create_cnn(color=False, dense_units=16, bn=False, dr=0.3, \n",
    "               pool_fcn='average', opt_fcn='SGD', lr = 0.001, act_fcn='selu', \n",
    "               filters_t=[16, 96, 256], kernels=[6, 3], stride=3, pad_mthd='same')\n",
    "cnn_gs.summary()\n",
    "train_cnn_gs = cnn_gs.fit(X_gs, Y, epochs=10, validation_data=(X_gs_test, Y_test), verbose=2, callbacks=[es_cb_cnn, cp_cb_cnn])\n",
    "\n"
   ]
  },
  {
   "cell_type": "code",
   "execution_count": 62,
   "id": "ed850fa1",
   "metadata": {},
   "outputs": [
    {
     "name": "stdout",
     "output_type": "stream",
     "text": [
      "16/16 [==============================] - 1s 52ms/step - loss: 0.6527 - accuracy: 0.6280\n",
      "fn 27\n",
      "Accuracy: 62.8\n",
      "Precision: 58.80829015544041\n",
      "Recall: 89.37007874015748\n",
      "AUC:  62.36796619934704\n",
      "FNR: 0.23684210526315788\n",
      "TPR: 0.8937007874015748\n"
     ]
    },
    {
     "data": {
      "image/png": "[encoded data removed]",
      "text/plain": [
       "<Figure size 432x288 with 2 Axes>"
      ]
     },
     "metadata": {
      "needs_background": "light"
     },
     "output_type": "display_data"
    }
   ],
   "source": [
    "score_cnn_gs = cnn_gs.evaluate(X_gs_test, Y_test)\n",
    "probs_cnn_gs = cnn_gs.predict(X_gs_test)\n",
    "results_gs = analyze(Y_test, probs_cnn_gs.round())\n",
    "\n",
    "print('Accuracy:', results_gs[0]*100)\n",
    "print('Precision:', results_gs[1]*100)\n",
    "print('Recall:', results_gs[2]*100)\n",
    "print('AUC: ', results_gs[3]*100)\n",
    "print('FNR:', results_gs[4])\n",
    "print('TPR:', results_gs[5])"
   ]
  },
  {
   "cell_type": "code",
   "execution_count": null,
   "id": "4d13f6bd",
   "metadata": {},
   "outputs": [],
   "source": []
  }
 ],
 "metadata": {
  "kernelspec": {
   "display_name": "Python 3",
   "language": "python",
   "name": "python3"
  },
  "language_info": {
   "codemirror_mode": {
    "name": "ipython",
    "version": 3
   },
   "file_extension": ".py",
   "mimetype": "text/x-python",
   "name": "python",
   "nbconvert_exporter": "python",
   "pygments_lexer": "ipython3",
   "version": "3.6.13"
  }
 },
 "nbformat": 4,
 "nbformat_minor": 5
}
