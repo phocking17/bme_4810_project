{
 "cells": [
  {
   "cell_type": "code",
   "execution_count": 68,
   "id": "7b25df18",
   "metadata": {},
   "outputs": [
    {
     "name": "stdout",
     "output_type": "stream",
     "text": [
      "(1875, 96, 96, 3) (625, 96, 96, 3) (1875, 1, 1, 1) (625, 1, 1, 1)\n"
     ]
    }
   ],
   "source": [
    "import pandas as pd\n",
    "import numpy as np\n",
    "import tensorflow as tf\n",
    "from tensorflow import keras\n",
    "from sklearn.model_selection import RandomizedSearchCV, GridSearchCV, train_test_split\n",
    "import h5py\n",
    "\n",
    "test_size = 0.25\n",
    "N = int(2500 * test_size)\n",
    "fid = h5py.File(r\"/Users/nathanbrockbank/Downloads/Project_Packet/dataset_patchcamelyon.h5\", 'r') \n",
    "X_test, Y_test = fid['X'][:N], fid['Y'][:N]\n",
    "X, Y = fid['X'][N:], fid['Y'][N:]\n",
    "X = X / 255.\n",
    "X_test = X_test / 255.\n",
    "fid.close()\n",
    "\n",
    "print(X.shape, X_test.shape, Y.shape, Y_test.shape)\n",
    "\n"
   ]
  },
  {
   "cell_type": "code",
   "execution_count": 70,
   "id": "9ee30cd9",
   "metadata": {},
   "outputs": [],
   "source": [
    "X_gs = tf.image.rgb_to_grayscale(X).shape\n",
    "X_gs_test = tf.image.rgb_to_grayscale(X_test).shape"
   ]
  },
  {
   "cell_type": "code",
   "execution_count": null,
   "id": "258409d8",
   "metadata": {},
   "outputs": [],
   "source": []
  },
  {
   "cell_type": "code",
   "execution_count": 71,
   "id": "195ffe9d",
   "metadata": {},
   "outputs": [],
   "source": [
    "def create_cnn(color=True, d_units=[128, 64], bn=True, dr=0.25, \n",
    "               pool_fcn='max', opt_fcn='RMSprop', lr = 0.01, act_fcn='relu', \n",
    "               filters=[64, 128, 256], kernels=[8, 3], stride=2, pad_mthd='same'):\n",
    "    \n",
    "    # determine input (RBG/GS)\n",
    "    if color:\n",
    "        input_shape = [96, 96, 3]\n",
    "    else:\n",
    "        input_shape = [96, 96, 1]\n",
    "    \n",
    "    # ensure there are filter and kernel sizes set for each convolutional layer\n",
    "    c_depth = max(len(filters), len(kernel_size))\n",
    "    if len(filters)>len(kernel_size):\n",
    "        while len(filters)>len(kernel_size):\n",
    "            kernel_size.append(kernel_size[len(kernel_size)-1])\n",
    "    elif len(filters)<len(kernel_size):\n",
    "        while len(filters)<len(kernel_size):\n",
    "            filters.append(filters[len(filters)-1])\n",
    "    \n",
    "    # create cnn\n",
    "    cnn_clf = keras.models.Sequential()\n",
    "    \n",
    "    # add convolutional layers\n",
    "    if pool_fcn == \"max\":\n",
    "        for i in range(c_depth):\n",
    "            cnn_clf.add(keras.layers.Conv2D(filters=filters[i], kernel_size=kernel_size[i], activation=act_fcn, padding=pad_mthd, input_shape=input_shape))\n",
    "            cnn_clf.add(keras.layers.MaxPooling2D(2))\n",
    "    elif pool_fcn == \"average\":\n",
    "        for i in range(c_depth):\n",
    "            cnn_clf.add(keras.layers.Conv2D(filters=filters[i], kernel_size=kernel_size[i], activation=act_fcn, padding=pad_mthd, input_shape=input_shape))\n",
    "            cnn_clf.add(keras.layers.AveragePooling2D(2))\n",
    "    cnn_clf.add(keras.layers.Flatten())\n",
    "    \n",
    "    # add dense layers\n",
    "    if bn:\n",
    "        for i in d_units:\n",
    "            cnn_clf.add(keras.layers.BatchNormalization())\n",
    "            cnn_clf.add(keras.layers.Dense(i, activation=act_fcn, kernel_initializer='lecun_normal'))\n",
    "            cnn_clf.add(keras.layers.Dropout(dr))\n",
    "    else:\n",
    "        for i in d_units:\n",
    "            cnn_clf.add(keras.layers.Dense(i, activation=act_fcn, kernel_initializer='lecun_normal'))\n",
    "            cnn_clf.add(keras.layers.Dropout(dr))\n",
    "\n",
    "    # define optimizer fcn\n",
    "    if opt_fcn == 'RMSprop':\n",
    "        opt = keras.optimizers.RMSprop(lr=lr)\n",
    "    elif opt_fcn == 'Adam':\n",
    "        opt = keras.optimizers.Adam(lr=lr)\n",
    "    elif opt_fcn == 'SGD':\n",
    "        opt = keras.optimizers.SGD(lr=lr, nesterov=True)\n",
    "    \n",
    "    # add output layer and compile\n",
    "    cnn_clf.add(keras.layers.Dense(2, activation='sigmoid'))\n",
    "    cnn_clf.compile(loss='binary_crossentropy', optimizer=opt, metrics=['accuracy'])\n",
    "    \n",
    "    return cnn_clf\n"
   ]
  },
  {
   "cell_type": "code",
   "execution_count": 72,
   "id": "1ea647ac",
   "metadata": {},
   "outputs": [
    {
     "name": "stdout",
     "output_type": "stream",
     "text": [
      "Fitting 3 folds for each of 192 candidates, totalling 576 fits\n"
     ]
    },
    {
     "ename": "ValueError",
     "evalue": "Invalid shape for y: (1875, 1, 1, 1)",
     "output_type": "error",
     "traceback": [
      "\u001b[0;31m---------------------------------------------------------------------------\u001b[0m",
      "\u001b[0;31mValueError\u001b[0m                                Traceback (most recent call last)",
      "\u001b[0;32m<ipython-input-72-22bcb271a180>\u001b[0m in \u001b[0;36m<module>\u001b[0;34m\u001b[0m\n\u001b[1;32m     29\u001b[0m \u001b[0;34m\u001b[0m\u001b[0m\n\u001b[1;32m     30\u001b[0m \u001b[0msearch_cv_c\u001b[0m \u001b[0;34m=\u001b[0m \u001b[0mGridSearchCV\u001b[0m\u001b[0;34m(\u001b[0m\u001b[0mcnn_wrap\u001b[0m\u001b[0;34m,\u001b[0m \u001b[0mparam_grid_c\u001b[0m\u001b[0;34m,\u001b[0m \u001b[0mcv\u001b[0m\u001b[0;34m=\u001b[0m\u001b[0;36m3\u001b[0m\u001b[0;34m,\u001b[0m \u001b[0mverbose\u001b[0m\u001b[0;34m=\u001b[0m\u001b[0;36m2\u001b[0m\u001b[0;34m,\u001b[0m \u001b[0mn_jobs\u001b[0m\u001b[0;34m=\u001b[0m\u001b[0;34m-\u001b[0m\u001b[0;36m1\u001b[0m\u001b[0;34m)\u001b[0m\u001b[0;34m\u001b[0m\u001b[0;34m\u001b[0m\u001b[0m\n\u001b[0;32m---> 31\u001b[0;31m \u001b[0msearch_cv_c\u001b[0m\u001b[0;34m.\u001b[0m\u001b[0mfit\u001b[0m\u001b[0;34m(\u001b[0m\u001b[0mX\u001b[0m\u001b[0;34m,\u001b[0m \u001b[0mY\u001b[0m\u001b[0;34m,\u001b[0m \u001b[0mepochs\u001b[0m\u001b[0;34m=\u001b[0m\u001b[0;36m5\u001b[0m\u001b[0;34m,\u001b[0m \u001b[0mverbose\u001b[0m\u001b[0;34m=\u001b[0m\u001b[0;36m2\u001b[0m\u001b[0;34m,\u001b[0m \u001b[0mcallbacks\u001b[0m\u001b[0;34m=\u001b[0m\u001b[0;34m[\u001b[0m\u001b[0mes_cb_cnn\u001b[0m\u001b[0;34m,\u001b[0m \u001b[0mcp_cb_cnn\u001b[0m\u001b[0;34m]\u001b[0m\u001b[0;34m)\u001b[0m\u001b[0;34m\u001b[0m\u001b[0;34m\u001b[0m\u001b[0m\n\u001b[0m\u001b[1;32m     32\u001b[0m \u001b[0mprint\u001b[0m\u001b[0;34m(\u001b[0m\u001b[0;34m\"color: \"\u001b[0m\u001b[0;34m,\u001b[0m \u001b[0msearch_cv_c\u001b[0m\u001b[0;34m.\u001b[0m\u001b[0mbest_params_\u001b[0m\u001b[0;34m)\u001b[0m\u001b[0;34m\u001b[0m\u001b[0;34m\u001b[0m\u001b[0m\n\u001b[1;32m     33\u001b[0m \u001b[0mprint\u001b[0m\u001b[0;34m(\u001b[0m\u001b[0mpd\u001b[0m\u001b[0;34m.\u001b[0m\u001b[0mDataFrame\u001b[0m\u001b[0;34m(\u001b[0m\u001b[0msearch_cv_c\u001b[0m\u001b[0;34m.\u001b[0m\u001b[0mcv_results_\u001b[0m\u001b[0;34m)\u001b[0m\u001b[0;34m)\u001b[0m\u001b[0;34m\u001b[0m\u001b[0;34m\u001b[0m\u001b[0m\n",
      "\u001b[0;32m~/opt/anaconda3/envs/hello-tf/lib/python3.6/site-packages/sklearn/utils/validation.py\u001b[0m in \u001b[0;36minner_f\u001b[0;34m(*args, **kwargs)\u001b[0m\n\u001b[1;32m     61\u001b[0m             \u001b[0mextra_args\u001b[0m \u001b[0;34m=\u001b[0m \u001b[0mlen\u001b[0m\u001b[0;34m(\u001b[0m\u001b[0margs\u001b[0m\u001b[0;34m)\u001b[0m \u001b[0;34m-\u001b[0m \u001b[0mlen\u001b[0m\u001b[0;34m(\u001b[0m\u001b[0mall_args\u001b[0m\u001b[0;34m)\u001b[0m\u001b[0;34m\u001b[0m\u001b[0;34m\u001b[0m\u001b[0m\n\u001b[1;32m     62\u001b[0m             \u001b[0;32mif\u001b[0m \u001b[0mextra_args\u001b[0m \u001b[0;34m<=\u001b[0m \u001b[0;36m0\u001b[0m\u001b[0;34m:\u001b[0m\u001b[0;34m\u001b[0m\u001b[0;34m\u001b[0m\u001b[0m\n\u001b[0;32m---> 63\u001b[0;31m                 \u001b[0;32mreturn\u001b[0m \u001b[0mf\u001b[0m\u001b[0;34m(\u001b[0m\u001b[0;34m*\u001b[0m\u001b[0margs\u001b[0m\u001b[0;34m,\u001b[0m \u001b[0;34m**\u001b[0m\u001b[0mkwargs\u001b[0m\u001b[0;34m)\u001b[0m\u001b[0;34m\u001b[0m\u001b[0;34m\u001b[0m\u001b[0m\n\u001b[0m\u001b[1;32m     64\u001b[0m \u001b[0;34m\u001b[0m\u001b[0m\n\u001b[1;32m     65\u001b[0m             \u001b[0;31m# extra_args > 0\u001b[0m\u001b[0;34m\u001b[0m\u001b[0;34m\u001b[0m\u001b[0;34m\u001b[0m\u001b[0m\n",
      "\u001b[0;32m~/opt/anaconda3/envs/hello-tf/lib/python3.6/site-packages/sklearn/model_selection/_search.py\u001b[0m in \u001b[0;36mfit\u001b[0;34m(self, X, y, groups, **fit_params)\u001b[0m\n\u001b[1;32m    878\u001b[0m             \u001b[0mrefit_start_time\u001b[0m \u001b[0;34m=\u001b[0m \u001b[0mtime\u001b[0m\u001b[0;34m.\u001b[0m\u001b[0mtime\u001b[0m\u001b[0;34m(\u001b[0m\u001b[0;34m)\u001b[0m\u001b[0;34m\u001b[0m\u001b[0;34m\u001b[0m\u001b[0m\n\u001b[1;32m    879\u001b[0m             \u001b[0;32mif\u001b[0m \u001b[0my\u001b[0m \u001b[0;32mis\u001b[0m \u001b[0;32mnot\u001b[0m \u001b[0;32mNone\u001b[0m\u001b[0;34m:\u001b[0m\u001b[0;34m\u001b[0m\u001b[0;34m\u001b[0m\u001b[0m\n\u001b[0;32m--> 880\u001b[0;31m                 \u001b[0mself\u001b[0m\u001b[0;34m.\u001b[0m\u001b[0mbest_estimator_\u001b[0m\u001b[0;34m.\u001b[0m\u001b[0mfit\u001b[0m\u001b[0;34m(\u001b[0m\u001b[0mX\u001b[0m\u001b[0;34m,\u001b[0m \u001b[0my\u001b[0m\u001b[0;34m,\u001b[0m \u001b[0;34m**\u001b[0m\u001b[0mfit_params\u001b[0m\u001b[0;34m)\u001b[0m\u001b[0;34m\u001b[0m\u001b[0;34m\u001b[0m\u001b[0m\n\u001b[0m\u001b[1;32m    881\u001b[0m             \u001b[0;32melse\u001b[0m\u001b[0;34m:\u001b[0m\u001b[0;34m\u001b[0m\u001b[0;34m\u001b[0m\u001b[0m\n\u001b[1;32m    882\u001b[0m                 \u001b[0mself\u001b[0m\u001b[0;34m.\u001b[0m\u001b[0mbest_estimator_\u001b[0m\u001b[0;34m.\u001b[0m\u001b[0mfit\u001b[0m\u001b[0;34m(\u001b[0m\u001b[0mX\u001b[0m\u001b[0;34m,\u001b[0m \u001b[0;34m**\u001b[0m\u001b[0mfit_params\u001b[0m\u001b[0;34m)\u001b[0m\u001b[0;34m\u001b[0m\u001b[0;34m\u001b[0m\u001b[0m\n",
      "\u001b[0;32m~/opt/anaconda3/envs/hello-tf/lib/python3.6/site-packages/tensorflow/python/keras/wrappers/scikit_learn.py\u001b[0m in \u001b[0;36mfit\u001b[0;34m(self, x, y, **kwargs)\u001b[0m\n\u001b[1;32m    219\u001b[0m       \u001b[0my\u001b[0m \u001b[0;34m=\u001b[0m \u001b[0mnp\u001b[0m\u001b[0;34m.\u001b[0m\u001b[0msearchsorted\u001b[0m\u001b[0;34m(\u001b[0m\u001b[0mself\u001b[0m\u001b[0;34m.\u001b[0m\u001b[0mclasses_\u001b[0m\u001b[0;34m,\u001b[0m \u001b[0my\u001b[0m\u001b[0;34m)\u001b[0m\u001b[0;34m\u001b[0m\u001b[0;34m\u001b[0m\u001b[0m\n\u001b[1;32m    220\u001b[0m     \u001b[0;32melse\u001b[0m\u001b[0;34m:\u001b[0m\u001b[0;34m\u001b[0m\u001b[0;34m\u001b[0m\u001b[0m\n\u001b[0;32m--> 221\u001b[0;31m       \u001b[0;32mraise\u001b[0m \u001b[0mValueError\u001b[0m\u001b[0;34m(\u001b[0m\u001b[0;34m'Invalid shape for y: '\u001b[0m \u001b[0;34m+\u001b[0m \u001b[0mstr\u001b[0m\u001b[0;34m(\u001b[0m\u001b[0my\u001b[0m\u001b[0;34m.\u001b[0m\u001b[0mshape\u001b[0m\u001b[0;34m)\u001b[0m\u001b[0;34m)\u001b[0m\u001b[0;34m\u001b[0m\u001b[0;34m\u001b[0m\u001b[0m\n\u001b[0m\u001b[1;32m    222\u001b[0m     \u001b[0mself\u001b[0m\u001b[0;34m.\u001b[0m\u001b[0mn_classes_\u001b[0m \u001b[0;34m=\u001b[0m \u001b[0mlen\u001b[0m\u001b[0;34m(\u001b[0m\u001b[0mself\u001b[0m\u001b[0;34m.\u001b[0m\u001b[0mclasses_\u001b[0m\u001b[0;34m)\u001b[0m\u001b[0;34m\u001b[0m\u001b[0;34m\u001b[0m\u001b[0m\n\u001b[1;32m    223\u001b[0m     \u001b[0;32mreturn\u001b[0m \u001b[0msuper\u001b[0m\u001b[0;34m(\u001b[0m\u001b[0mKerasClassifier\u001b[0m\u001b[0;34m,\u001b[0m \u001b[0mself\u001b[0m\u001b[0;34m)\u001b[0m\u001b[0;34m.\u001b[0m\u001b[0mfit\u001b[0m\u001b[0;34m(\u001b[0m\u001b[0mx\u001b[0m\u001b[0;34m,\u001b[0m \u001b[0my\u001b[0m\u001b[0;34m,\u001b[0m \u001b[0;34m**\u001b[0m\u001b[0mkwargs\u001b[0m\u001b[0;34m)\u001b[0m\u001b[0;34m\u001b[0m\u001b[0;34m\u001b[0m\u001b[0m\n",
      "\u001b[0;31mValueError\u001b[0m: Invalid shape for y: (1875, 1, 1, 1)"
     ]
    }
   ],
   "source": [
    "\n",
    "cnn_wrap = keras.wrappers.scikit_learn.KerasClassifier(create_cnn)\n",
    "\n",
    "cp_cb_cnn = keras.callbacks.ModelCheckpoint(\"model_trained_cnn.h5\")\n",
    "es_cb_cnn = keras.callbacks.EarlyStopping(monitor=\"accuracy\", patience=5, restore_best_weights=True)\n",
    "\n",
    "param_grid_c = {\n",
    "    'color': [True],\n",
    "    'd_units': [(128, 64), (64, 32)],\n",
    "    'bn': [True, False],\n",
    "    'dr': [0, 0.25],\n",
    "    'pool_fcn': ['max', 'average'],\n",
    "    'opt_fcn': ['RMSprop', 'Adam', 'SGD'],\n",
    "    'lr': [0.01, 0.0001],\n",
    "    'act_fcn': ['relu', 'selu'],\n",
    "    'pad_mthd': ['valid']\n",
    "}\n",
    "\n",
    "param_grid_gs = {\n",
    "    'color': [False],\n",
    "    'd_units': [(128, 64), (64, 32)],\n",
    "    'bn': [True, False],\n",
    "    'dr': [0, 0.25],\n",
    "    'pool_fcn': ['max', 'average'],\n",
    "    'opt_fcn': ['RMSprop', 'Adam', 'SGD'],\n",
    "    'lr': [0.01, 0.0001],\n",
    "    'act_fcn': ['relu', 'selu'],\n",
    "    'pad_mthd': ['valid']\n",
    "}\n",
    "\n",
    "search_cv_c = GridSearchCV(cnn_wrap, param_grid_c, cv=3, verbose=2, n_jobs=-1)\n",
    "search_cv_c.fit(X, Y, epochs=5, verbose=2, callbacks=[es_cb_cnn, cp_cb_cnn])\n",
    "print(\"color: \", search_cv_c.best_params_)\n",
    "print(pd.DataFrame(search_cv_c.cv_results_))\n",
    "\n",
    "search_cv_gs = GridSearchCV(cnn_wrap, param_grid_gs, cv=3, verbose=2, n_jobs=-1)\n",
    "search_cv_gs.fit(X_gs, Y, epochs=5, verbose=2, callbacks=[es_cb_cnn, cp_cb_cnn])\n",
    "print(\"grayscale: \", search_cv_gs.best_params_)\n",
    "print(pd.DataFrame(search_cv_gs.cv_results_))"
   ]
  },
  {
   "cell_type": "code",
   "execution_count": null,
   "id": "8429a746",
   "metadata": {},
   "outputs": [],
   "source": [
    "param_grid_c = {\n",
    "    'color': [True],\n",
    "    'd_units': [(128, 64), (64, 32)],\n",
    "    'bn': [True, False],\n",
    "    'dr': [0, 0.25, 0.5],\n",
    "    'pool_fcn': ['max', 'average'],\n",
    "    'opt_fcn': ['RMSprop', 'Adam', 'SGD'],\n",
    "    'lr': np.logspace(-4, -2,num=3).tolist(),\n",
    "    'act_fcn': ['relu', 'selu'],\n",
    "    'filters': [(64, 128, 256), (64, 128), (128, 256)],\n",
    "    'kernels': [(8, 3), (6, 4)],\n",
    "    'stride': [2],\n",
    "    'pad_mthd': ['valid']\n",
    "}\n",
    "\n",
    "param_grid_gs = {\n",
    "    'color': [False],\n",
    "    'd_units': [(128, 64), (64, 32)],\n",
    "    'bn': [True, False],\n",
    "    'dr': [0, 0.25, 0.5],\n",
    "    'pool_fcn': ['max', 'average'],\n",
    "    'opt_fcn': ['RMSprop', 'Adam', 'SGD'],\n",
    "    'lr': np.logspace(-4, -2,num=3).tolist(),\n",
    "    'act_fcn': ['relu', 'selu'],\n",
    "    'filters': [(64, 128, 256), (64, 128), (128, 256)],\n",
    "    'kernels': [(8, 3), (6, 4)],\n",
    "    'stride': [2],\n",
    "    'pad_mthd': ['valid']\n",
    "}"
   ]
  }
 ],
 "metadata": {
  "kernelspec": {
   "display_name": "Python 3",
   "language": "python",
   "name": "python3"
  },
  "language_info": {
   "codemirror_mode": {
    "name": "ipython",
    "version": 3
   },
   "file_extension": ".py",
   "mimetype": "text/x-python",
   "name": "python",
   "nbconvert_exporter": "python",
   "pygments_lexer": "ipython3",
   "version": "3.6.13"
  }
 },
 "nbformat": 4,
 "nbformat_minor": 5
}
